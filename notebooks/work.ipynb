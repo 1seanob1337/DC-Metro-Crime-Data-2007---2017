{
 "cells": [
  {
   "cell_type": "code",
   "execution_count": null,
   "metadata": {},
   "outputs": [],
   "source": [
    "# Import 1\n",
    "# in your notebook cell\n",
    "import sys\n",
    "# path relative to your notebook\n",
    "sys.path.append(\"/Users/joel/Desktop/daimil10/capstone_1/DC-Metro-Crime-Data-2007---2017/src\")\n",
    "# import as usual\n",
    "import functions\n",
    "\n",
    "# autoreload\n",
    "%load_ext autoreload\n",
    "%autoreload 2"
   ]
  },
  {
   "cell_type": "code",
   "execution_count": null,
   "metadata": {},
   "outputs": [],
   "source": [
    "# Import 2\n",
    "import numpy as np\n",
    "import pandas as pd\n",
    "import seaborn as sns\n",
    "import matplotlib.pyplot as plt"
   ]
  },
  {
   "cell_type": "code",
   "execution_count": null,
   "metadata": {},
   "outputs": [],
   "source": [
    "# Read file in and drop first two rows\n",
    "# First two rows seem to make like no sense with the rest of this data set\n",
    "df = functions.read_file('/Users/joel/Desktop/daimil10/capstone_1/DC-Metro-Crime-Data-2007---2017/data/dc_crime_add_vars.csv')\n",
    "df = df.drop(['Unnamed: 0', 'X'], axis=1)\n",
    "df.head()"
   ]
  },
  {
   "cell_type": "code",
   "execution_count": null,
   "metadata": {},
   "outputs": [],
   "source": [
    "# Describing the Dataset 1\n",
    "df.describe()"
   ]
  },
  {
   "cell_type": "code",
   "execution_count": null,
   "metadata": {},
   "outputs": [],
   "source": [
    "# Describing the Dataset 2\n",
    "df.info()"
   ]
  },
  {
   "cell_type": "code",
   "execution_count": null,
   "metadata": {},
   "outputs": [],
   "source": [
    "# Describing the Dataset 3\n",
    "df.index"
   ]
  },
  {
   "cell_type": "code",
   "execution_count": null,
   "metadata": {},
   "outputs": [],
   "source": [
    "# Describing the Dataset 4\n",
    "df.columns"
   ]
  },
  {
   "cell_type": "code",
   "execution_count": null,
   "metadata": {},
   "outputs": [],
   "source": [
    "# Describing the Dataset 5\n",
    "missing_v = df.isnull().sum()\n",
    "missing_v"
   ]
  },
  {
   "cell_type": "code",
   "execution_count": null,
   "metadata": {},
   "outputs": [],
   "source": [
    "# Describing the Dataset 6\n",
    "# Went from 342867 to 325340 = 17527 removed which is roughly 5% of the dataset \n",
    "df = functions.drop_rows_with_missing_data(df)\n",
    "df.info()"
   ]
  },
  {
   "cell_type": "code",
   "execution_count": null,
   "metadata": {},
   "outputs": [],
   "source": [
    "# Describing the Dataset 7\n",
    "functions.describe_dataframe(df)"
   ]
  },
  {
   "cell_type": "code",
   "execution_count": null,
   "metadata": {},
   "outputs": [],
   "source": [
    "# Describing the Dataset 8\n",
    "functions.get_column_features(df)"
   ]
  },
  {
   "cell_type": "code",
   "execution_count": null,
   "metadata": {},
   "outputs": [],
   "source": [
    "# Slice df to only include the offense of homicide\n",
    "# Convert datetimes\n",
    "# Make new start and end hour column\n",
    "df_2 = df[df['OFFENSE']=='HOMICIDE']\n",
    "df_2['START_DATE'] = pd.to_datetime(df_2['START_DATE'])\n",
    "df_2['END_DATE'] = pd.to_datetime(df_2['END_DATE'])\n",
    "df_2['start_hour'] = df_2['START_DATE'].dt.hour\n",
    "df_2['end_hour'] = df_2['START_DATE'].dt.hour\n",
    "df_2 = df_2.drop('hour', axis=1)\n",
    "df_2.head()"
   ]
  },
  {
   "cell_type": "code",
   "execution_count": null,
   "metadata": {},
   "outputs": [],
   "source": [
    "# Dedup'd for final clean df\n",
    "# 1100 rows now\n",
    "hom_df = df_2\n",
    "\n",
    "# Slicing df one last time to get only my desired columns\n",
    "hom_df = hom_df[['REPORT_DAT',\n",
    "                'SHIFT',\n",
    "                'OFFENSE',\n",
    "                'METHOD',\n",
    "                'BLOCK',\n",
    "                'DISTRICT',\n",
    "                'PSA',\n",
    "                'WARD',\n",
    "                'ANC',\n",
    "                'NEIGHBORHOOD_CLUSTER',\n",
    "                'BLOCK_GROUP',\n",
    "                'VOTING_PRECINCT',\n",
    "                'START_DATE',\n",
    "                'END_DATE',\n",
    "                'XBLOCK',\n",
    "                'YBLOCK',\n",
    "                'date',\n",
    "                'year',\n",
    "                'start_hour',\n",
    "                'end_hour',\n",
    "                'crimetype']]\n",
    "\n",
    "#Show that it worked\n",
    "hom_df.columns"
   ]
  },
  {
   "cell_type": "code",
   "execution_count": null,
   "metadata": {},
   "outputs": [],
   "source": [
    "# Have homicides increased over this decade?\n",
    "# Line Chart\n",
    "\n",
    "# Filter the DataFrame for homicides\n",
    "homicides_df = df[df['OFFENSE'] == 'HOMICIDE']\n",
    "\n",
    "# Group the data by year and count the number of homicides per year\n",
    "homicides_by_year = homicides_df.groupby('year').size()\n"
   ]
  },
  {
   "cell_type": "code",
   "execution_count": null,
   "metadata": {},
   "outputs": [],
   "source": [
    "# Which districts or neighborhoods had the highest number of homicides?\n",
    "# Bar Chart\n",
    "\n",
    "# Filter the DataFrame for homicides\n",
    "homicides_df = df[df['OFFENSE'] == 'HOMICIDE']\n",
    "\n",
    "# Group the data by district/neighborhood and count the number of homicides\n",
    "homicides_by_location = homicides_df['DISTRICT'].value_counts().sort_values()"
   ]
  },
  {
   "cell_type": "code",
   "execution_count": null,
   "metadata": {},
   "outputs": [],
   "source": [
    "# Is there any correlation between the time of the day and the occurrence of homicides?\n",
    "# Heat Map\n",
    "\n",
    "# Extract the hour from the 'REPORT_DAT' column\n",
    "df['Time_of_Day'] = pd.to_datetime(df['REPORT_DAT']).dt.hour\n",
    "\n",
    "# Create a binary(dummy) column for the cat columns\n",
    "df['Homicide'] = df['OFFENSE'].apply(lambda x: 1 if 'HOMICIDE' in x else 0)\n",
    "df['Shift_Evening'] = df['SHIFT'].apply(lambda x: 1 if 'EVENING' in x else 0)\n",
    "df['Shift_Midnight'] = df['SHIFT'].apply(lambda x: 1 if 'MIDNIGHT' in x else 0)\n",
    "\n",
    "# Select the columns of interest\n",
    "correlation_df= df[['Time_of_Day', 'Homicide', 'Shift_Evening', 'Shift_Midnight']]\n",
    "corr_matrix = correlation_df.corr()"
   ]
  },
  {
   "cell_type": "code",
   "execution_count": null,
   "metadata": {},
   "outputs": [],
   "source": [
    "# Are homicides more likely to occur with a gun or a knife? \n",
    "# Stacked Plot\n",
    "\n",
    "# Select list of violent offenses\n",
    "offenses = ['HOMICIDE', 'ROBBERY', 'ASSAULT W/DANGEROUS WEAPON', 'BURGLARY']\n",
    "\n",
    "# Filter the DataFrame\n",
    "filtered_df = df[offenses]\n",
    "\n",
    "# Group the data by offense and method, and count\n",
    "# .size()is used after grouping the data to count the number of occurrences \n",
    "# for each group. It returns a Series or DataFrame with the counts.\n",
    "# .unstack() is applied to a hierarchical index (such as the result of a groupby operation) \n",
    "# and reshapes the data by \"unstacking\" one level of the index to create columns.\n",
    "grouped_data = filtered_df.groupby(['OFFENSE', 'METHOD']).size().unstack()\n",
    "\n",
    "# Calculate the proportions for each method within each offense\n",
    "grouped_data_proportions = grouped_data.div(grouped_data.sum(axis=1), axis=0) * 100  # Multiply by 100 to get percentages"
   ]
  },
  {
   "cell_type": "code",
   "execution_count": null,
   "metadata": {},
   "outputs": [],
   "source": [
    "# Extra: Folium Experiment?\n",
    "# Show a heat map of the highest number of homicides, in a specfic area, using leaflet.js"
   ]
  }
 ],
 "metadata": {
  "kernelspec": {
   "display_name": "Python 3 (ipykernel)",
   "language": "python",
   "name": "python3"
  },
  "language_info": {
   "codemirror_mode": {
    "name": "ipython",
    "version": 3
   },
   "file_extension": ".py",
   "mimetype": "text/x-python",
   "name": "python",
   "nbconvert_exporter": "python",
   "pygments_lexer": "ipython3",
   "version": "3.9.13"
  },
  "orig_nbformat": 4
 },
 "nbformat": 4,
 "nbformat_minor": 2
}
